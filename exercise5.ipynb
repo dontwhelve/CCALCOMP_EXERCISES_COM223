{
  "cells": [
    {
      "cell_type": "markdown",
      "metadata": {
        "id": "view-in-github",
        "colab_type": "text"
      },
      "source": [
        "<a href=\"https://colab.research.google.com/github/dontwhelve/CCALCOMP_EXERCISES_COM223/blob/main/exercise5.ipynb\" target=\"_parent\"><img src=\"https://colab.research.google.com/assets/colab-badge.svg\" alt=\"Open In Colab\"/></a>"
      ]
    },
    {
      "cell_type": "markdown",
      "metadata": {
        "id": "-8bYOEC8HOQ4"
      },
      "source": [
        "# Exercise 5\n",
        "\n",
        "Please follow the instructions in each number."
      ]
    },
    {
      "cell_type": "markdown",
      "metadata": {
        "id": "FEPXLUAPHOQ6"
      },
      "source": [
        "### Maximum Subarray\n",
        "Given an array of integers nums, find the subarray with the largest sum and return the sum.\n",
        "\n",
        "A subarray is a contiguous non-empty sequence of elements within an array.\n",
        "\n",
        "\n",
        "\n",
        "Example 1:\n",
        "\n",
        "Input: nums = [2,-3,4,-2,2,1,-1,4]\n",
        "\n",
        "Output: 8\n",
        "\n",
        "Explanation: The subarray [4,-2,2,1,-1,4] has the largest sum 8."
      ]
    },
    {
      "cell_type": "markdown",
      "metadata": {
        "id": "D4a-4yS4HOQ7"
      },
      "source": [
        "## Tasks"
      ]
    },
    {
      "cell_type": "markdown",
      "metadata": {
        "id": "v8mlE6kYHOQ7"
      },
      "source": [
        "1. Put your student number in a list and manually compute the maximum subarray in your student number (`10 points`)"
      ]
    },
    {
      "cell_type": "code",
      "execution_count": null,
      "metadata": {
        "vscode": {
          "languageId": "plaintext"
        },
        "id": "YJMIVpuTHOQ8",
        "collapsed": true
      },
      "outputs": [],
      "source": [
        "# My student number is 2022-108228\n",
        "#student_number = [2, 0, 2, 2, 1, 0, 8, 2, 2, 8]\n",
        "\n",
        "# Computation of the maximum subarray\n",
        "\n",
        "\"\"\"\n",
        "Initial values:\n",
        "\n",
        "max_current = 2\n",
        "max_global = 2\n",
        "Process the next element (0):\n",
        "\n",
        "max_current = max(0, 2 + 0) = max(0, 2) = 2\n",
        "max_global = max(2, 2) = 2\n",
        "Process the next element (2):\n",
        "\n",
        "max_current = max(2, 2 + 2) = max(2, 4) = 4\n",
        "max_global = max(2, 4) = 4\n",
        "Process the next element (2):\n",
        "\n",
        "max_current = max(2, 4 + 2) = max(2, 6) = 6\n",
        "max_global = max(4, 6) = 6\n",
        "Process the next element (1):\n",
        "\n",
        "max_current = max(1, 6 + 1) = max(1, 7) = 7\n",
        "max_global = max(6, 7) = 7\n",
        "Process the next element (0):\n",
        "\n",
        "max_current = max(0, 7 + 0) = max(0, 7) = 7\n",
        "max_global = max(7, 7) = 7\n",
        "Process the next element (8):\n",
        "\n",
        "max_current = max(8, 7 + 8) = max(8, 15) = 15\n",
        "max_global = max(7, 15) = 15\n",
        "Process the next element (2):\n",
        "\n",
        "max_current = max(2, 15 + 2) = max(2, 17) = 17\n",
        "max_global = max(15, 17) = 17\n",
        "Process the next element (2):\n",
        "\n",
        "max_current = max(2, 17 + 2) = max(2, 19) = 19\n",
        "max_global = max(17, 19) = 19\n",
        "Process the next element (8):\n",
        "\n",
        "max_current = max(8, 19 + 8) = max(8, 27) = 27\n",
        "max_global = max(19, 27) = 27\n",
        "\n",
        "So, the maximum subarray sum for the list [2, 0, 2, 2, 1, 0, 8, 2, 2, 8] is 27."
      ]
    },
    {
      "cell_type": "markdown",
      "metadata": {
        "id": "nchQgI2KHOQ8"
      },
      "source": [
        "2. Write a program using a brute-force approach to get the maximum-subarray of your student number (`40 points`)"
      ]
    },
    {
      "cell_type": "code",
      "execution_count": 7,
      "metadata": {
        "vscode": {
          "languageId": "plaintext"
        },
        "id": "b9P6oe11HOQ9",
        "colab": {
          "base_uri": "https://localhost:8080/"
        },
        "outputId": "59e11d3c-357d-42a5-90e8-e75d9afe81fd"
      },
      "outputs": [
        {
          "output_type": "stream",
          "name": "stdout",
          "text": [
            "The maximum subarray sum is: 27\n",
            "The maximum subarray is: [2, 0, 2, 2, 1, 0, 8, 2, 2, 8]\n"
          ]
        }
      ],
      "source": [
        "def max_subarray_brute_force(nums):\n",
        "    n = len(nums)\n",
        "    max_sum = float('-inf')\n",
        "    start = end = 0\n",
        "\n",
        "    # Iterate over all possible subarrays\n",
        "    for i in range(n):\n",
        "        for j in range(i, n):\n",
        "            current_sum = sum(nums[i:j+1])\n",
        "            # Update max_sum if we found a larger sum\n",
        "            if current_sum > max_sum:\n",
        "                max_sum = current_sum\n",
        "                start = i\n",
        "                end = j\n",
        "\n",
        "    # Return the maximum sum and the corresponding subarray\n",
        "    return max_sum, nums[start:end+1]\n",
        "\n",
        "# Student number represented as a list\n",
        "student_number = [2, 0, 2, 2, 1, 0, 8, 2, 2, 8]\n",
        "\n",
        "# Find maximum subarray using brute-force approach\n",
        "max_sum, max_subarray = max_subarray_brute_force(student_number)\n",
        "\n",
        "# Print results\n",
        "print(f\"The maximum subarray sum is: {max_sum}\")\n",
        "print(f\"The maximum subarray is: {max_subarray}\")\n"
      ]
    },
    {
      "cell_type": "markdown",
      "metadata": {
        "id": "NkqAxIx_HOQ9"
      },
      "source": [
        "3. Write a program using a dynamic programming to get the maximum-subarray of your student number (`50 points`)"
      ]
    },
    {
      "cell_type": "code",
      "execution_count": 8,
      "metadata": {
        "vscode": {
          "languageId": "plaintext"
        },
        "id": "BFBp2ARLHOQ9",
        "colab": {
          "base_uri": "https://localhost:8080/"
        },
        "outputId": "7cf26be7-812d-4a45-9cb8-5969ed031ae7"
      },
      "outputs": [
        {
          "output_type": "stream",
          "name": "stdout",
          "text": [
            "The maximum subarray sum is: 27\n"
          ]
        }
      ],
      "source": [
        "def max_subarray_dp(nums):\n",
        "    n = len(nums)\n",
        "\n",
        "    # Edge case: if the array is empty, return 0\n",
        "    if n == 0:\n",
        "        return 0\n",
        "\n",
        "    # Initialize variables for DP\n",
        "    max_ending_here = nums[0]  # Maximum subarray sum ending at the current position\n",
        "    max_so_far = nums[0]\n",
        "\n",
        "    # Iterate through the array starting from the second element\n",
        "    for i in range(1, n):\n",
        "        # Decide whether to add the current element to the existing subarray\n",
        "        max_ending_here = max(nums[i], max_ending_here + nums[i])\n",
        "\n",
        "        max_so_far = max(max_so_far, max_ending_here)\n",
        "\n",
        "    return max_so_far\n",
        "\n",
        "# Student number represented as a list\n",
        "student_number = [2, 0, 2, 2, 1, 0, 8, 2, 2, 8]\n",
        "\n",
        "# Find maximum subarray using dynamic programming approach\n",
        "max_sum = max_subarray_dp(student_number)\n",
        "\n",
        "# Print result\n",
        "print(f\"The maximum subarray sum is: {max_sum}\")\n"
      ]
    }
  ],
  "metadata": {
    "colab": {
      "provenance": [],
      "include_colab_link": true
    },
    "kernelspec": {
      "display_name": "base",
      "language": "python",
      "name": "python3"
    },
    "language_info": {
      "codemirror_mode": {
        "name": "ipython",
        "version": 3
      },
      "file_extension": ".py",
      "mimetype": "text/x-python",
      "name": "python",
      "nbconvert_exporter": "python",
      "pygments_lexer": "ipython3",
      "version": "3.9.6"
    }
  },
  "nbformat": 4,
  "nbformat_minor": 0
}