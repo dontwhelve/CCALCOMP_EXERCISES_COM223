{
  "cells": [
    {
      "cell_type": "markdown",
      "source": [
        "https://colab.research.google.com/drive/1_MsQlwi95bhYqAkGbElO12O3ZkcDqZZ7?usp=sharing"
      ],
      "metadata": {
        "id": "RWozWNdzE17Y"
      }
    },
    {
      "cell_type": "markdown",
      "metadata": {
        "id": "3-prKGbfwFRd"
      },
      "source": [
        "# Exercise 1"
      ]
    },
    {
      "cell_type": "markdown",
      "source": [],
      "metadata": {
        "id": "oTiDzJ57EwBT"
      }
    },
    {
      "cell_type": "markdown",
      "metadata": {
        "id": "kBW-_z9HwFRf"
      },
      "source": [
        "Please follow the instructions in each number. Do not remove or modify the pre-defined code!"
      ]
    },
    {
      "cell_type": "code",
      "execution_count": null,
      "metadata": {
        "id": "ABAdD_ngwFRg"
      },
      "outputs": [],
      "source": [
        "# Add a vertex to the set of vertices and the graph\n",
        "def add_vertex(v):\n",
        "  global graph\n",
        "  global vertices_no\n",
        "  global vertices\n",
        "  if v in vertices:\n",
        "    print(\"Vertex \", v, \" already exists\")\n",
        "  else:\n",
        "    vertices_no = vertices_no + 1\n",
        "    vertices.append(v)\n",
        "    if vertices_no > 1:\n",
        "        for vertex in graph:\n",
        "            vertex.append(0)\n",
        "    temp = []\n",
        "    for i in range(vertices_no):\n",
        "        temp.append(0)\n",
        "    graph.append(temp)\n",
        "\n",
        "# Add an edge between vertex v1 and v2 with edge weight e\n",
        "def add_edge(v1, v2, e):\n",
        "    global graph\n",
        "    global vertices_no\n",
        "    global vertices\n",
        "    # Check if vertex v1 is a valid vertex\n",
        "    if v1 not in vertices:\n",
        "        print(\"Vertex \", v1, \" does not exist.\")\n",
        "    # Check if vertex v1 is a valid vertex\n",
        "    elif v2 not in vertices:\n",
        "        print(\"Vertex \", v2, \" does not exist.\")\n",
        "    # Since this code is not restricted to a directed or\n",
        "    # an undirected graph, an edge between v1 v2 does not\n",
        "    # imply that an edge exists between v2 and v1\n",
        "    else:\n",
        "        index1 = vertices.index(v1)\n",
        "        index2 = vertices.index(v2)\n",
        "        graph[index1][index2] = e\n",
        "\n",
        "# Print the graph\n",
        "def print_graph():\n",
        "  global graph\n",
        "  global vertices_no\n",
        "  for i in range(vertices_no):\n",
        "    for j in range(vertices_no):\n",
        "      if graph[i][j] != 0:\n",
        "        print(vertices[i], \" -> \", vertices[j],\n",
        "              \" edge weight: \", graph[i][j])"
      ]
    },
    {
      "cell_type": "code",
      "execution_count": null,
      "metadata": {
        "id": "912w9tR0wFRh"
      },
      "outputs": [],
      "source": [
        "# stores the vertices in the graph\n",
        "vertices = []\n",
        "# stores the number of vertices in the graph\n",
        "vertices_no = 0\n",
        "graph = []"
      ]
    },
    {
      "cell_type": "markdown",
      "metadata": {
        "id": "lzkib3wYwFRh"
      },
      "source": [
        "<img src=\"https://github.com/robitussin/CCALCOMP_EXERCISES/blob/main/images/directed%20graph2.png?raw=true\"/>"
      ]
    },
    {
      "cell_type": "markdown",
      "metadata": {
        "id": "Qfh-2gbPwFRi"
      },
      "source": [
        "1. Print the edges and vertices of the graph in set representation. (`25 points`)"
      ]
    },
    {
      "cell_type": "code",
      "execution_count": 7,
      "metadata": {
        "id": "FSymqoxmwFRi",
        "colab": {
          "base_uri": "https://localhost:8080/"
        },
        "outputId": "8c783685-ecc1-4388-db12-d7806c9b001e"
      },
      "outputs": [
        {
          "output_type": "stream",
          "name": "stdout",
          "text": [
            "Vertices:  ['A', 'B', 'C', 'D', 'E']\n",
            "Edges:\n",
            "A  ->  B  edge weight:  10\n",
            "A  ->  C  edge weight:  12\n",
            "B  ->  D  edge weight:  20\n",
            "B  ->  E  edge weight:  7\n",
            "C  ->  D  edge weight:  60\n",
            "C  ->  E  edge weight:  32\n"
          ]
        }
      ],
      "source": [
        "class Graph:\n",
        "    def __init__(self):\n",
        "        self.vertices = []\n",
        "        self.edges = []\n",
        "\n",
        "    def add_vertex(self, v):\n",
        "        if v not in self.vertices:\n",
        "            self.vertices.append(v)\n",
        "\n",
        "    def add_edge(self, v1, v2, e):\n",
        "        if v1 in self.vertices and v2 in self.vertices:\n",
        "            self.edges.append((v1, v2, e))\n",
        "        else:\n",
        "            print(\"One or both of the vertices do not exist in the graph.\")\n",
        "\n",
        "    def print_graph(self):\n",
        "        print(\"Vertices: \", self.vertices)\n",
        "        print(\"Edges:\")\n",
        "        for edge in self.edges:\n",
        "            print(edge[0], \" -> \", edge[1], \" edge weight: \", edge[2])\n",
        "\n",
        "# Initialize the graph\n",
        "g = Graph()\n",
        "\n",
        "# Add vertices\n",
        "g.add_vertex(\"A\")\n",
        "g.add_vertex(\"B\")\n",
        "g.add_vertex(\"C\")\n",
        "g.add_vertex(\"D\")\n",
        "g.add_vertex(\"E\")\n",
        "\n",
        "# Add edges\n",
        "g.add_edge(\"A\", \"B\", 10)\n",
        "g.add_edge(\"A\", \"C\", 12)\n",
        "g.add_edge(\"B\", \"D\", 20)\n",
        "g.add_edge(\"B\", \"E\", 7)\n",
        "g.add_edge(\"C\", \"D\", 60)\n",
        "g.add_edge(\"C\", \"E\", 32)\n",
        "\n",
        "# Print the graph\n",
        "g.print_graph()\n"
      ]
    },
    {
      "cell_type": "markdown",
      "metadata": {
        "id": "NHt6QEFzwFRi"
      },
      "source": [
        "2. Implement the weighted graph in python code. Use the print_graph() function. (`25 points`)"
      ]
    },
    {
      "cell_type": "code",
      "execution_count": 8,
      "metadata": {
        "id": "fcYP9VF9wFRj",
        "colab": {
          "base_uri": "https://localhost:8080/"
        },
        "outputId": "af719550-6dc4-4e29-e3c3-7516bf5b5a7f"
      },
      "outputs": [
        {
          "output_type": "stream",
          "name": "stdout",
          "text": [
            "Node A:\n",
            "  -> B (10)\n",
            "  -> C (12)\n",
            "Node B:\n",
            "  -> A (10)\n",
            "  -> D (20)\n",
            "  -> E (7)\n",
            "Node C:\n",
            "  -> A (12)\n",
            "  -> D (60)\n",
            "  -> E (32)\n",
            "Node D:\n",
            "  -> B (20)\n",
            "  -> C (60)\n",
            "Node E:\n",
            "  -> B (7)\n",
            "  -> C (32)\n"
          ]
        }
      ],
      "source": [
        "class WeightedGraph:\n",
        "    def __init__(self):\n",
        "        self.nodes = {}\n",
        "\n",
        "    def add_node(self, node):\n",
        "        if node not in self.nodes:\n",
        "            self.nodes[node] = []\n",
        "\n",
        "    def add_edge(self, node1, node2, weight):\n",
        "        self.nodes[node1].append((node2, weight))\n",
        "        self.nodes[node2].append((node1, weight))\n",
        "\n",
        "    def print_graph(self):\n",
        "        for node, edges in self.nodes.items():\n",
        "            print(f\"Node {node}:\")\n",
        "            for neighbor, weight in edges:\n",
        "                print(f\"  -> {neighbor} ({weight})\")\n",
        "\n",
        "# Example usage:\n",
        "graph = WeightedGraph()\n",
        "\n",
        "# Add nodes\n",
        "graph.add_node(\"A\")\n",
        "graph.add_node(\"B\")\n",
        "graph.add_node(\"C\")\n",
        "graph.add_node(\"D\")\n",
        "graph.add_node(\"E\")\n",
        "\n",
        "# Add edges with weights\n",
        "graph.add_edge(\"A\", \"B\", 10)\n",
        "graph.add_edge(\"A\", \"C\", 12)\n",
        "graph.add_edge(\"B\", \"D\", 20)\n",
        "graph.add_edge(\"B\", \"E\", 7)\n",
        "graph.add_edge(\"C\", \"D\", 60)\n",
        "graph.add_edge(\"C\", \"E\", 32)\n",
        "\n",
        "# Print the graph\n",
        "graph.print_graph()\n"
      ]
    },
    {
      "cell_type": "markdown",
      "metadata": {
        "id": "kD-6afNTwFRj"
      },
      "source": [
        "3. You decided to go on a trip around the philippines. Being a computer scientist, you wanted to find the optimal route that would cost the least amount of money to travel all four cities. Find the route and print the total cost of the most optimal route. (`50 points`)"
      ]
    },
    {
      "cell_type": "markdown",
      "metadata": {
        "id": "cBHIHSIewFRj"
      },
      "source": [
        "<img src=\"https://github.com/robitussin/CCALCOMP_EXERCISES/blob/main/images/trip.png?raw=true\" width=\"500\" height=\"600\"/>"
      ]
    },
    {
      "cell_type": "code",
      "execution_count": 12,
      "metadata": {
        "id": "yNwmvIXnwFRj",
        "colab": {
          "base_uri": "https://localhost:8080/"
        },
        "outputId": "e4977dd8-a0a5-465c-bc56-7f8be8957665"
      },
      "outputs": [
        {
          "output_type": "stream",
          "name": "stdout",
          "text": [
            "Minimum cost starting from Manila: 9500\n",
            "Path taken: ['Manila', 'Tacloban', 'Puerto Princesa', 'Davao', 'Tacloban', 'Manila']\n",
            "Minimum cost starting from Puerto Princesa: 9500\n",
            "Path taken: ['Puerto Princesa', 'Davao', 'Tacloban', 'Manila', 'Tacloban', 'Puerto Princesa']\n",
            "Minimum cost starting from Tacloban: 9500\n",
            "Path taken: ['Tacloban', 'Manila', 'Tacloban', 'Puerto Princesa', 'Davao', 'Tacloban']\n",
            "Minimum cost starting from Davao: 9500\n",
            "Path taken: ['Davao', 'Tacloban', 'Manila', 'Tacloban', 'Puerto Princesa', 'Davao']\n"
          ]
        }
      ],
      "source": [
        "import heapq\n",
        "from itertools import permutations\n",
        "\n",
        "class Graph:\n",
        "    def __init__(self):\n",
        "        self.edges = {}\n",
        "\n",
        "    def add_edge(self, start, end, cost):\n",
        "        if start not in self.edges:\n",
        "            self.edges[start] = []\n",
        "        self.edges[start].append((end, cost))\n",
        "\n",
        "    def find_shortest_path(self, start, destinations):\n",
        "        min_cost = float('inf')\n",
        "        min_path = None\n",
        "\n",
        "        for perm in permutations(destinations):\n",
        "            perm_cost, perm_path = self.calculate_path_cost(start, perm)\n",
        "            if perm_cost < min_cost:\n",
        "                min_cost = perm_cost\n",
        "                min_path = perm_path\n",
        "\n",
        "        return min_cost, min_path\n",
        "\n",
        "    def calculate_path_cost(self, start, destinations):\n",
        "        total_cost = 0\n",
        "        path = [start]\n",
        "        for dest in destinations:\n",
        "            dest_cost, dest_path = self.dijkstra(starting_point=path[-1], destination=dest)\n",
        "            total_cost += dest_cost\n",
        "            path += dest_path[1:]\n",
        "\n",
        "        if path[-1] != start:\n",
        "            dest_cost, dest_path = self.dijkstra(starting_point=path[-1], destination=start)\n",
        "            total_cost += dest_cost\n",
        "            path += dest_path[1:]\n",
        "\n",
        "        return total_cost, path\n",
        "\n",
        "    def dijkstra(self, starting_point, destination):\n",
        "        heap = [(0, starting_point, [starting_point])]\n",
        "        visited = set()\n",
        "\n",
        "        while heap:\n",
        "            cost, node, path = heapq.heappop(heap)\n",
        "            if node == destination:\n",
        "                return cost, path\n",
        "\n",
        "            if node in visited:\n",
        "                continue\n",
        "\n",
        "            visited.add(node)\n",
        "            if node in self.edges:\n",
        "                for neighbor, neighbor_cost in self.edges[node]:\n",
        "                    if neighbor not in visited:\n",
        "                        new_cost = cost + neighbor_cost\n",
        "                        new_path = path + [neighbor]\n",
        "                        heapq.heappush(heap, (new_cost, neighbor, new_path))\n",
        "\n",
        "        return float('inf'), []\n",
        "\n",
        "    def get_path(self, start, end):\n",
        "        _, path = self.dijkstra(starting_point=start, destination=end)\n",
        "        if end in path:\n",
        "            return \" -> \".join(path)\n",
        "        else:\n",
        "            return \"No path found.\"\n",
        "\n",
        "# Creating the graph\n",
        "g = Graph()\n",
        "g.add_edge(\"Manila\", \"Puerto Princesa\", 8000)\n",
        "g.add_edge(\"Manila\", \"Tacloban\", 1000)\n",
        "g.add_edge(\"Puerto Princesa\", \"Davao\", 4000)\n",
        "g.add_edge(\"Tacloban\", \"Manila\", 1000)\n",
        "g.add_edge(\"Tacloban\", \"Davao\", 2000)\n",
        "g.add_edge(\"Tacloban\", \"Puerto Princesa\", 1500)\n",
        "g.add_edge(\"Davao\", \"Puerto Princesa\", 4000)\n",
        "g.add_edge(\"Davao\", \"Tacloban\", 2000)\n",
        "g.add_edge(\"Davao\", \"Manila\", 5000)\n",
        "\n",
        "cities = [\"Manila\", \"Puerto Princesa\", \"Tacloban\", \"Davao\"]\n",
        "destinations = [\"Manila\", \"Puerto Princesa\", \"Tacloban\", \"Davao\"]\n",
        "for city in cities:\n",
        "    cost, path = g.find_shortest_path(start=city, destinations=destinations)\n",
        "    print(f\"Minimum cost starting from {city}: {cost}\")\n",
        "    print(f\"Path taken: {path}\")\n"
      ]
    }
  ],
  "metadata": {
    "kernelspec": {
      "display_name": "base",
      "language": "python",
      "name": "python3"
    },
    "language_info": {
      "codemirror_mode": {
        "name": "ipython",
        "version": 3
      },
      "file_extension": ".py",
      "mimetype": "text/x-python",
      "name": "python",
      "nbconvert_exporter": "python",
      "pygments_lexer": "ipython3",
      "version": "3.9.6"
    },
    "colab": {
      "provenance": []
    }
  },
  "nbformat": 4,
  "nbformat_minor": 0
}